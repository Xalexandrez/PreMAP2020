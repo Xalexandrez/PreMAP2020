{
 "cells": [
  {
   "cell_type": "markdown",
   "metadata": {},
   "source": [
    "**<font color='red'>Change the name from assignment_lastname to include YOUR last name</font>**. This will make sure that the assignment doesn't get overwritten when you do a git pull in class. "
   ]
  },
  {
   "cell_type": "markdown",
   "metadata": {},
   "source": [
    "# Homework 5B - the coding portion"
   ]
  },
  {
   "cell_type": "markdown",
   "metadata": {},
   "source": [
    "## Due: Friday, November 6 by 5pm"
   ]
  },
  {
   "cell_type": "markdown",
   "metadata": {},
   "source": [
    "Skills: Plotting, reading in data files"
   ]
  },
  {
   "cell_type": "markdown",
   "metadata": {},
   "source": [
    "Turn in instructions:\n",
    "1. Before turning in your notebook, make sure you save it first using the floppy disk save icon or File -> save.\n",
    "2. Open a new terminal ```New -> Terminal```, cd into the directory where you worked on this homework. For most of you that should be ~/PreMAP2020/homework/\n",
    "3. To turn in your assignment, you need to “git push” your assignment to your github using the following commands. You’ll need to be inside the PreMAP2020 directory for this to work. (Not in your home directory.)\n",
    "```\n",
    "git add *\n",
    "git commit -m “<Include a message inside quotes: i.e. Finished HW 5B>”\n",
    "git push\n",
    "```"
   ]
  },
  {
   "cell_type": "markdown",
   "metadata": {},
   "source": [
    "Always start with your import statement!"
   ]
  },
  {
   "cell_type": "code",
   "execution_count": 1,
   "metadata": {},
   "outputs": [],
   "source": [
    "import numpy as np\n",
    "from astropy.io import ascii #You need this to read in the data file from the paper\n",
    "import matplotlib.pyplot as plt #You need this to be able to plot!\n",
    "\n",
    "#This line is key if you want your plots to show up in the Jupyter notebook!\n",
    "%matplotlib inline"
   ]
  },
  {
   "cell_type": "markdown",
   "metadata": {},
   "source": [
    "### For your last coding homework, you will be reading in a data file from the [paper you read for part A](https://drive.google.com/file/d/1AhTQV3rVOFa10nBEtm8XZBsXBPDoEFRH/view?usp=sharing) of homework 6 and working to recreate some of the plots in Figure 1. Please refer back to the notebook we worked on in class with plotting examples!"
   ]
  },
  {
   "cell_type": "markdown",
   "metadata": {},
   "source": [
    "Read in the data file that was used to create the plots in Figure 1:"
   ]
  },
  {
   "cell_type": "code",
   "execution_count": 2,
   "metadata": {},
   "outputs": [],
   "source": [
    "data = ascii.read('data/terrazas.txt',format='tab')"
   ]
  },
  {
   "cell_type": "markdown",
   "metadata": {},
   "source": [
    "To check out what your data file looks like, you can execute the cell below to see the first three lines. Play around the try to display the first ten lines, lines 20-30, and the last three lines (*Hint: to display the last line, you would type data[:-1]* )"
   ]
  },
  {
   "cell_type": "code",
   "execution_count": 55,
   "metadata": {},
   "outputs": [
    {
     "data": {
      "text/html": [
       "<i>Table length=3</i>\n",
       "<table id=\"table140385809835664\" class=\"table-striped table-bordered table-condensed\">\n",
       "<thead><tr><th>Name</th><th>M_*</th><th>SFR</th><th>M_BH</th><th>MBH Error</th><th>Method</th></tr></thead>\n",
       "<thead><tr><th>str11</th><th>float64</th><th>float64</th><th>float64</th><th>float64</th><th>str9</th></tr></thead>\n",
       "<tr><td>NGC 4742</td><td>10.226</td><td>-1.175</td><td>7.1</td><td>0.15</td><td>star</td></tr>\n",
       "<tr><td>NGC 5495</td><td>11.392</td><td>0.963</td><td>7.08</td><td>0.3</td><td>maser</td></tr>\n",
       "<tr><td>NGC 7332</td><td>10.656</td><td>-1.279</td><td>7.08</td><td>0.18</td><td>star</td></tr>\n",
       "</table>"
      ],
      "text/plain": [
       "<Table length=3>\n",
       "  Name     M_*     SFR     M_BH  MBH Error Method\n",
       " str11   float64 float64 float64  float64   str9 \n",
       "-------- ------- ------- ------- --------- ------\n",
       "NGC 4742  10.226  -1.175     7.1      0.15   star\n",
       "NGC 5495  11.392   0.963    7.08       0.3  maser\n",
       "NGC 7332  10.656  -1.279    7.08      0.18   star"
      ]
     },
     "execution_count": 55,
     "metadata": {},
     "output_type": "execute_result"
    }
   ],
   "source": [
    "data[:10]\n",
    "data[19:29]\n",
    "data[-3:] "
   ]
  },
  {
   "cell_type": "markdown",
   "metadata": {},
   "source": [
    "To work with individual columns from a data table, you can call them by their names. Execute the cell below to check out only the `'Name'` column from the data table."
   ]
  },
  {
   "cell_type": "code",
   "execution_count": 22,
   "metadata": {},
   "outputs": [
    {
     "data": {
      "text/html": [
       "&lt;Column name=&apos;Name&apos; dtype=&apos;str11&apos; length=90&gt;\n",
       "<table>\n",
       "<tr><td>Centaurus A</td></tr>\n",
       "<tr><td>Circinus</td></tr>\n",
       "<tr><td>IC 1459</td></tr>\n",
       "<tr><td>IC 4296</td></tr>\n",
       "<tr><td>M31</td></tr>\n",
       "<tr><td>M66</td></tr>\n",
       "<tr><td>M81</td></tr>\n",
       "<tr><td>M87</td></tr>\n",
       "<tr><td>NGC 0307</td></tr>\n",
       "<tr><td>NGC 0524</td></tr>\n",
       "<tr><td>NGC 0821</td></tr>\n",
       "<tr><td>NGC 1023</td></tr>\n",
       "<tr><td>...</td></tr>\n",
       "<tr><td>NGC 5548</td></tr>\n",
       "<tr><td>NGC 5765b</td></tr>\n",
       "<tr><td>NGC 6814</td></tr>\n",
       "<tr><td>NGC 7469</td></tr>\n",
       "<tr><td>NGC 1097</td></tr>\n",
       "<tr><td>NGC 1275</td></tr>\n",
       "<tr><td>NGC 3665</td></tr>\n",
       "<tr><td>NGC 3706</td></tr>\n",
       "<tr><td>NGC 4303</td></tr>\n",
       "<tr><td>NGC 4742</td></tr>\n",
       "<tr><td>NGC 5495</td></tr>\n",
       "<tr><td>NGC 7332</td></tr>\n",
       "</table>"
      ],
      "text/plain": [
       "<Column name='Name' dtype='str11' length=90>\n",
       "Centaurus A\n",
       "   Circinus\n",
       "    IC 1459\n",
       "    IC 4296\n",
       "        M31\n",
       "        M66\n",
       "        M81\n",
       "        M87\n",
       "   NGC 0307\n",
       "   NGC 0524\n",
       "   NGC 0821\n",
       "   NGC 1023\n",
       "        ...\n",
       "   NGC 5548\n",
       "  NGC 5765b\n",
       "   NGC 6814\n",
       "   NGC 7469\n",
       "   NGC 1097\n",
       "   NGC 1275\n",
       "   NGC 3665\n",
       "   NGC 3706\n",
       "   NGC 4303\n",
       "   NGC 4742\n",
       "   NGC 5495\n",
       "   NGC 7332"
      ]
     },
     "execution_count": 22,
     "metadata": {},
     "output_type": "execute_result"
    }
   ],
   "source": [
    "data['Name']"
   ]
  },
  {
   "cell_type": "markdown",
   "metadata": {},
   "source": [
    "**1)** Display only the **last** 10 lines of the `'M_BH'` column."
   ]
  },
  {
   "cell_type": "code",
   "execution_count": 56,
   "metadata": {},
   "outputs": [
    {
     "data": {
      "text/html": [
       "&lt;Column name=&apos;M_BH&apos; dtype=&apos;float64&apos; length=10&gt;\n",
       "<table>\n",
       "<tr><td>7.02</td></tr>\n",
       "<tr><td>6.94</td></tr>\n",
       "<tr><td>8.14</td></tr>\n",
       "<tr><td>8.98</td></tr>\n",
       "<tr><td>8.76</td></tr>\n",
       "<tr><td>9.77</td></tr>\n",
       "<tr><td>6.51</td></tr>\n",
       "<tr><td>7.1</td></tr>\n",
       "<tr><td>7.08</td></tr>\n",
       "<tr><td>7.08</td></tr>\n",
       "</table>"
      ],
      "text/plain": [
       "<Column name='M_BH' dtype='float64' length=10>\n",
       "7.02\n",
       "6.94\n",
       "8.14\n",
       "8.98\n",
       "8.76\n",
       "9.77\n",
       "6.51\n",
       " 7.1\n",
       "7.08\n",
       "7.08"
      ]
     },
     "execution_count": 56,
     "metadata": {},
     "output_type": "execute_result"
    }
   ],
   "source": [
    "a =data['M_BH']\n",
    "a[-10:]"
   ]
  },
  {
   "cell_type": "code",
   "execution_count": 63,
   "metadata": {},
   "outputs": [
    {
     "data": {
      "text/html": [
       "<i>Table length=90</i>\n",
       "<table id=\"table140385749318416\" class=\"table-striped table-bordered table-condensed\">\n",
       "<thead><tr><th>M_*</th><th>SFR</th></tr></thead>\n",
       "<thead><tr><th>float64</th><th>float64</th></tr></thead>\n",
       "<tr><td>10.904</td><td>0.213</td></tr>\n",
       "<tr><td>10.2</td><td>-0.01</td></tr>\n",
       "<tr><td>11.381</td><td>-0.611</td></tr>\n",
       "<tr><td>11.567</td><td>-0.753</td></tr>\n",
       "<tr><td>10.731</td><td>-0.519</td></tr>\n",
       "<tr><td>10.84</td><td>0.536</td></tr>\n",
       "<tr><td>10.764</td><td>-0.356</td></tr>\n",
       "<tr><td>11.519</td><td>-1.335</td></tr>\n",
       "<tr><td>10.772</td><td>-0.567</td></tr>\n",
       "<tr><td>11.086</td><td>-0.559</td></tr>\n",
       "<tr><td>...</td><td>...</td></tr>\n",
       "<tr><td>10.843</td><td>0.286</td></tr>\n",
       "<tr><td>11.011</td><td>1.434</td></tr>\n",
       "<tr><td>11.009</td><td>0.766</td></tr>\n",
       "<tr><td>11.646</td><td>1.109</td></tr>\n",
       "<tr><td>11.194</td><td>0.246</td></tr>\n",
       "<tr><td>11.361</td><td>-1.002</td></tr>\n",
       "<tr><td>10.955</td><td>0.674</td></tr>\n",
       "<tr><td>10.226</td><td>-1.175</td></tr>\n",
       "<tr><td>11.392</td><td>0.963</td></tr>\n",
       "<tr><td>10.656</td><td>-1.279</td></tr>\n",
       "</table>"
      ],
      "text/plain": [
       "<Table length=90>\n",
       "  M_*     SFR  \n",
       "float64 float64\n",
       "------- -------\n",
       " 10.904   0.213\n",
       "   10.2   -0.01\n",
       " 11.381  -0.611\n",
       " 11.567  -0.753\n",
       " 10.731  -0.519\n",
       "  10.84   0.536\n",
       " 10.764  -0.356\n",
       " 11.519  -1.335\n",
       " 10.772  -0.567\n",
       " 11.086  -0.559\n",
       "    ...     ...\n",
       " 10.843   0.286\n",
       " 11.011   1.434\n",
       " 11.009   0.766\n",
       " 11.646   1.109\n",
       " 11.194   0.246\n",
       " 11.361  -1.002\n",
       " 10.955   0.674\n",
       " 10.226  -1.175\n",
       " 11.392   0.963\n",
       " 10.656  -1.279"
      ]
     },
     "execution_count": 63,
     "metadata": {},
     "output_type": "execute_result"
    }
   ],
   "source": [
    "data['M_*','SFR']"
   ]
  },
  {
   "cell_type": "markdown",
   "metadata": {},
   "source": [
    "**2)** In the cell below, complete the `ax.scatter` command to make a scatter plot of the stellar mass `'M_*'` and the star formation rate `'SFR'`."
   ]
  },
  {
   "cell_type": "code",
   "execution_count": 66,
   "metadata": {},
   "outputs": [
    {
     "data": {
      "text/plain": [
       "<matplotlib.collections.PathCollection at 0x7fae1aaa5390>"
      ]
     },
     "execution_count": 66,
     "metadata": {},
     "output_type": "execute_result"
    },
    {
     "data": {
      "image/png": "[encoded data removed]",
      "text/plain": [
       "<Figure size 504x504 with 1 Axes>"
      ]
     },
     "metadata": {
      "needs_background": "light"
     },
     "output_type": "display_data"
    }
   ],
   "source": [
    "fig, ax = plt.subplots(figsize=(7,7))\n",
    "ax.scatter('M_*','SFR')"
   ]
  },
  {
   "cell_type": "markdown",
   "metadata": {},
   "source": [
    "**3)** Copy your code to create the scatter plot from the previous question and add X and Y axis labels. Increase the font size of your axis labels to size 18."
   ]
  },
  {
   "cell_type": "code",
   "execution_count": 68,
   "metadata": {},
   "outputs": [
    {
     "data": {
      "text/plain": [
       "Text(0, 0.5, 'Star Formation rate')"
      ]
     },
     "execution_count": 68,
     "metadata": {},
     "output_type": "execute_result"
    },
    {
     "data": {
      "image/png": "[encoded data removed]",
      "text/plain": [
       "<Figure size 504x504 with 1 Axes>"
      ]
     },
     "metadata": {
      "needs_background": "light"
     },
     "output_type": "display_data"
    }
   ],
   "source": [
    "fig, ax = plt.subplots(figsize=(7,7))\n",
    "ax.scatter('M_*','SFR')\n",
    "plt.xlabel('Stellar Mass',fontsize=18)\n",
    "plt.ylabel('Star Formation rate',fontsize=18)"
   ]
  },
  {
   "cell_type": "markdown",
   "metadata": {},
   "source": [
    "**4)** You can also make scatter plots with the `plot` command. Figure out how to make a scatter plot that looks like the one you made with `scatter` using the `plot` command. I suggest checking out this [plot gallery](https://matplotlib.org/2.1.1/gallery/index.html) from the `matplotlib` creators. If you click a plot, you will see code that shows how the plot was made. There is a nice scatter plot on the top row that was made with the `plot` command. There are a ton of these plot galleries online and it is a great way to figure out how to make a new plot!"
   ]
  },
  {
   "cell_type": "code",
   "execution_count": null,
   "metadata": {},
   "outputs": [],
   "source": [
    "fig, ax = plt.subplots(figsize=(7,7))\n",
    "ax.plot(???,???,???) \n",
    "#Hint: you'll need one more item inside the function call to get points instead of lines. \n",
    "#Check out the last item in the function call in the example in the plot gallery linked above"
   ]
  },
  {
   "cell_type": "markdown",
   "metadata": {},
   "source": [
    "### Adding colors and labels"
   ]
  },
  {
   "cell_type": "markdown",
   "metadata": {},
   "source": [
    "It can be helpful to color code certain points on a plot to understand where certain types of objects lie on your diagram. You can create masks to select certain types of points. For example, if I wanted to select all of the galaxies in `data` that have black holes measured with the method `star`, I would type:<br>"
   ]
  },
  {
   "cell_type": "code",
   "execution_count": null,
   "metadata": {
    "collapsed": true
   },
   "outputs": [],
   "source": [
    "star = data['Method'] == 'star'"
   ]
  },
  {
   "cell_type": "markdown",
   "metadata": {},
   "source": [
    "`star` is a mask: an array of `True` and `False` that is the same length as the full `data` array. The value of `star` is `True` where the `Method` column value is `star` and `False` where it is not. You can select rows from the array where `star` is `True` using the following command:"
   ]
  },
  {
   "cell_type": "code",
   "execution_count": null,
   "metadata": {
    "scrolled": true
   },
   "outputs": [],
   "source": [
    "data[star]"
   ]
  },
  {
   "cell_type": "markdown",
   "metadata": {},
   "source": [
    "If you just want to plot out the values in the `SFR` column for the galaxies with `Method = star`, you could type:"
   ]
  },
  {
   "cell_type": "code",
   "execution_count": null,
   "metadata": {},
   "outputs": [],
   "source": [
    "data['SFR'][star]"
   ]
  },
  {
   "cell_type": "markdown",
   "metadata": {},
   "source": [
    "To find out the total unique values in an array, you can use the `np.unique` function. Execute the cell below to see the unique values in the `Method` column:"
   ]
  },
  {
   "cell_type": "code",
   "execution_count": null,
   "metadata": {},
   "outputs": [],
   "source": [
    "np.unique(data['Method'])"
   ]
  },
  {
   "cell_type": "markdown",
   "metadata": {},
   "source": [
    "**5)** Create a scatter plot with the stellar mass on the X-axis and the black hole mass on the Y-axis (using either the `scatter` or `plot` command, whichever you prefer) where the points are color coded by their measurement method. Make sure to add a label for each set of points and include a legend on your plot. *Make sure to label your axes!*"
   ]
  },
  {
   "cell_type": "code",
   "execution_count": null,
   "metadata": {},
   "outputs": [],
   "source": [
    "fig,ax=plt.subplots(figsize=(7,7))\n",
    "\n",
    "star = (data['Method']=='star')\n",
    "CO = ???\n",
    "RM = ???\n",
    "gas = ???\n",
    "maser = ???\n",
    "star_gas = ???\n",
    "\n",
    "#Plot each type of point below:\n",
    "\n",
    "\n",
    "\n",
    "\n",
    "\n",
    "\n",
    "#Don't forget to include axis labels\n",
    "\n",
    "\n",
    "\n",
    "#Include the command to display the legend\n"
   ]
  },
  {
   "cell_type": "markdown",
   "metadata": {},
   "source": [
    "**Optional Challenge** (this won't count for your grade on this homework assignment):<br>\n",
    "<br>\n",
    "Create a scatter plot that looks like the first plot in Figure 1 from the paper. Plot SFR/$M_{*}$ on the Y-axis and $M_{*}$ on the X-axis and color code the points by their value of $M_{BH}$. Include a color bar. Don't worry about error bars or the gray points or background line.<br>\n",
    "*Hint: check out the example on [this stack overflow page](https://stackoverflow.com/questions/6063876/matplotlib-colorbar-for-scatter)*<br>\n",
    "*Another hint, when using a colormap, you need to set `vmin` and `vmax` values. A good way to set these is for `vmin` to by the minimum value of the array you're using to color code and `vmax` is the maximum value of that array. You can find the minimum value of an array with `numpy` using the `np.amin(array)` function and find the max with the `np.amax` function.*<br>\n",
    "*Ok, last hint: if you really want your color map to look like the one in the paper, check out [this page](https://matplotlib.org/3.1.0/tutorials/colors/colormaps.html) from `matplotlib` that shows what all their color maps look like and choose one that looks like the one in the paper. I'm sure this plot was made with python so you should be able to find the exact same one!*"
   ]
  },
  {
   "cell_type": "code",
   "execution_count": null,
   "metadata": {},
   "outputs": [],
   "source": []
  }
 ],
 "metadata": {
  "kernelspec": {
   "display_name": "Python 3",
   "language": "python",
   "name": "python3"
  },
  "language_info": {
   "codemirror_mode": {
    "name": "ipython",
    "version": 3
   },
   "file_extension": ".py",
   "mimetype": "text/x-python",
   "name": "python",
   "nbconvert_exporter": "python",
   "pygments_lexer": "ipython3",
   "version": "3.7.8"
  }
 },
 "nbformat": 4,
 "nbformat_minor": 2
}
